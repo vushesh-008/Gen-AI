{
 "cells": [
  {
   "cell_type": "code",
   "execution_count": 40,
   "metadata": {},
   "outputs": [],
   "source": [
    "import numpy as np\n",
    "import tensorflow as tf\n",
    "import pandas as pd\n",
    "import matplotlib.pylab as plt\n",
    "import itertools as iter\n",
    "\n",
    "import torch\n",
    "import torch.nn as nn\n",
    "import torch.optim as optim\n",
    "\n",
    "from typing import List, Tuple\n",
    "from tqdm import tqdm"
   ]
  },
  {
   "cell_type": "code",
   "execution_count": 5,
   "metadata": {},
   "outputs": [],
   "source": [
    "\n",
    "headlines = pd.read_csv('abcnews-date-text.csv')['headline_text']"
   ]
  },
  {
   "cell_type": "markdown",
   "metadata": {},
   "source": [
    "# Sequence of letters\n",
    "Let's now take these headlines and grab sequences of letters out of them."
   ]
  },
  {
   "cell_type": "code",
   "execution_count": 6,
   "metadata": {},
   "outputs": [
    {
     "data": {
      "text/plain": [
       "'aba decides against community broadcasting licence'"
      ]
     },
     "execution_count": 6,
     "metadata": {},
     "output_type": "execute_result"
    }
   ],
   "source": [
    "headlines[0]"
   ]
  },
  {
   "cell_type": "code",
   "execution_count": 13,
   "metadata": {},
   "outputs": [],
   "source": [
    "def sliding_window(text:str) -> Tuple[str, str]:\n",
    "    \"\"\"Generates a sliding window of size 2 over the text\n",
    "\n",
    "    Args:\n",
    "        text (str): The text to generate the sliding window over\n",
    "\n",
    "    Yields:\n",
    "        str: A sliding window of size 2 over the text\n",
    "    \"\"\"\n",
    "    for i in range(len(text)-1):\n",
    "        yield text[i], text[i+1]"
   ]
  },
  {
   "cell_type": "code",
   "execution_count": 24,
   "metadata": {},
   "outputs": [],
   "source": [
    "window = list(iter.chain(*[sliding_window(_) for _ in headlines[:10000]]))\n",
    "\n",
    "mapping = {c: i for i, c in enumerate(pd.DataFrame(window)[0].unique())}\n",
    "integers_in = np.array([mapping[w[0]] for w in window])\n",
    "integers_out = np.array([mapping[w[1]] for w in window]).reshape(-1, 1)"
   ]
  },
  {
   "cell_type": "code",
   "execution_count": 29,
   "metadata": {},
   "outputs": [
    {
     "data": {
      "text/plain": [
       "((386880,), (386880, 1))"
      ]
     },
     "execution_count": 29,
     "metadata": {},
     "output_type": "execute_result"
    }
   ],
   "source": [
    "integers_in.shape , integers_out.shape"
   ]
  },
  {
   "cell_type": "markdown",
   "metadata": {},
   "source": [
    "# Embedding layer"
   ]
  },
  {
   "cell_type": "code",
   "execution_count": 33,
   "metadata": {},
   "outputs": [
    {
     "data": {
      "text/plain": [
       "torch.Size([386880, 2])"
      ]
     },
     "execution_count": 33,
     "metadata": {},
     "output_type": "execute_result"
    }
   ],
   "source": [
    "num_letters = len(mapping)\n",
    "\n",
    "embedding = nn.Embedding(num_letters, 2)\n",
    "model_emb = nn.Sequential(embedding)\n",
    "\n",
    "input_tensor = torch.tensor(integers_in, dtype=torch.long)\n",
    "\n",
    "# Pass the input tensor through the model\n",
    "output_array = model_emb(input_tensor)\n",
    "\n",
    "output_array.shape"
   ]
  },
  {
   "cell_type": "code",
   "execution_count": 35,
   "metadata": {},
   "outputs": [
    {
     "data": {
      "image/png": "[encoded data removed]",
      "text/plain": [
       "<Figure size 640x480 with 1 Axes>"
      ]
     },
     "metadata": {},
     "output_type": "display_data"
    }
   ],
   "source": [
    "# Convert mapping values to a list and then to a numpy array\n",
    "idx_to_calc = list(mapping.values())\n",
    "idx_to_calc = np.array([idx_to_calc]).T\n",
    "\n",
    "# Create a translator dictionary\n",
    "translator = {v: k for k, v in mapping.items()}\n",
    "\n",
    "# Convert idx_to_calc to a PyTorch tensor\n",
    "idx_to_calc_tensor = torch.tensor(idx_to_calc, dtype=torch.long)\n",
    "\n",
    "# Perform a forward pass through the model\n",
    "with torch.no_grad():\n",
    "    preds = model_emb(idx_to_calc_tensor)\n",
    "\n",
    "# Convert predictions to numpy array for plotting\n",
    "preds = preds.numpy()\n",
    "\n",
    "# Plotting\n",
    "plt.scatter(preds[:, 0, 0], preds[:, 0, 1], alpha=0)\n",
    "for i, idx in enumerate(idx_to_calc):\n",
    "    plt.text(preds[i, 0, 0], preds[i, 0, 1], translator[idx[0]])\n",
    "\n",
    "plt.show()"
   ]
  },
  {
   "cell_type": "markdown",
   "metadata": {},
   "source": [
    "# Mapping layers"
   ]
  },
  {
   "cell_type": "code",
   "execution_count": null,
   "metadata": {},
   "outputs": [
    {
     "name": "stdout",
     "output_type": "stream",
     "text": [
      "Using device: mps\n"
     ]
    },
    {
     "name": "stderr",
     "output_type": "stream",
     "text": [
      "Epoch 1/30:   0%|          | 95/386880 [00:12<11:57:46,  8.98it/s]"
     ]
    }
   ],
   "source": [
    "# Check if MPS is available and set the device\n",
    "device = torch.device(\"mps\" if torch.backends.mps.is_available() else \"cpu\")\n",
    "print(f\"Using device: {device}\")\n",
    "\n",
    "# Model\n",
    "class ModelPred(nn.Module):\n",
    "    def __init__(self, num_letters:int, embedding_dim:int):\n",
    "        super().__init__()\n",
    "        self.embedding = nn.Embedding(num_letters, embedding_dim)\n",
    "        self.flatten = nn.Flatten()\n",
    "        self.dense = nn.Linear(embedding_dim, num_letters)\n",
    "\n",
    "    def forward(self, x):\n",
    "        x = self.embedding(x)\n",
    "        x = self.flatten(x)\n",
    "        x = self.dense(x)\n",
    "        return x\n",
    "    \n",
    "# Parameters\n",
    "num_letters = len(mapping)\n",
    "embedding_dim = 2\n",
    "\n",
    "# Instantiate the model\n",
    "model_pred = ModelPred(num_letters, embedding_dim).to(device)\n",
    "input_tensor = torch.tensor(integers_in, dtype=torch.long).to(device)\n",
    "target_tensor = torch.tensor(integers_out, dtype=torch.long).squeeze().to(device)\n",
    "\n",
    "# Define the optimizer\n",
    "adam = optim.Adam(model_pred.parameters(), lr=0.01, betas=(0.9, 0.999), amsgrad=False)\n",
    "\n",
    "# Define the loss function\n",
    "criterion = nn.CrossEntropyLoss()\n",
    "\n",
    "# Training loop\n",
    "epochs = 30\n",
    "batch_size = 1\n",
    "\n",
    "for epoch in range(epochs):\n",
    "    model_pred.train()\n",
    "    epoch_loss = 0\n",
    "    for i in tqdm(range(0, len(integers_in), batch_size), desc=f\"Epoch {epoch+1}/{epochs}\"):\n",
    "        \n",
    "        # Zero the parameter gradients\n",
    "        adam.zero_grad()\n",
    "\n",
    "        # Forward pass\n",
    "        outputs = model_pred(input_tensor)\n",
    "\n",
    "        # Calculate the loss\n",
    "        loss = criterion(outputs, target_tensor)\n",
    "\n",
    "        # Backward pass\n",
    "        loss.backward()\n",
    "        adam.step()\n",
    "\n",
    "        epoch_loss += loss.item()\n",
    "\n",
    "    if (epoch + 1) % 5 == 0:\n",
    "        print(f'Epoch: {epoch+1}, Loss: {epoch_loss / len(integers_in):.4f}')\n",
    "\n",
    "print('Finished Training')\n"
   ]
  },
  {
   "cell_type": "code",
   "execution_count": 4,
   "metadata": {},
   "outputs": [],
   "source": []
  },
  {
   "cell_type": "code",
   "execution_count": null,
   "metadata": {},
   "outputs": [],
   "source": []
  },
  {
   "cell_type": "code",
   "execution_count": null,
   "metadata": {},
   "outputs": [],
   "source": []
  }
 ],
 "metadata": {
  "kernelspec": {
   "display_name": "transformers",
   "language": "python",
   "name": "python3"
  },
  "language_info": {
   "codemirror_mode": {
    "name": "ipython",
    "version": 3
   },
   "file_extension": ".py",
   "mimetype": "text/x-python",
   "name": "python",
   "nbconvert_exporter": "python",
   "pygments_lexer": "ipython3",
   "version": "3.11.10"
  }
 },
 "nbformat": 4,
 "nbformat_minor": 2
}
